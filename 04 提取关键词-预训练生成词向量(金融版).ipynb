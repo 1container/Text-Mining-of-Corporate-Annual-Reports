{
 "cells": [
  {
   "cell_type": "code",
   "execution_count": 2,
   "id": "0c81c461",
   "metadata": {},
   "outputs": [],
   "source": [
    "import numpy as np\n",
    "import pandas as pd\n",
    "from bert_serving.client import BertClient\n",
    "from sklearn.feature_extraction.text import TfidfVectorizer # 创建TF-IDF向量化器\n",
    "from cnsenti import Sentiment"
   ]
  },
  {
   "cell_type": "code",
   "execution_count": 6,
   "id": "cfdc4b9e",
   "metadata": {},
   "outputs": [
    {
     "data": {
      "text/plain": [
       "'1.15.0'"
      ]
     },
     "execution_count": 6,
     "metadata": {},
     "output_type": "execute_result"
    }
   ],
   "source": [
    "import tensorflow as tf\n",
    "tf.__version__"
   ]
  },
  {
   "cell_type": "code",
   "execution_count": 61,
   "id": "cc3ed71d",
   "metadata": {
    "scrolled": true
   },
   "outputs": [
    {
     "data": {
      "text/html": [
       "<div>\n",
       "<style scoped>\n",
       "    .dataframe tbody tr th:only-of-type {\n",
       "        vertical-align: middle;\n",
       "    }\n",
       "\n",
       "    .dataframe tbody tr th {\n",
       "        vertical-align: top;\n",
       "    }\n",
       "\n",
       "    .dataframe thead th {\n",
       "        text-align: right;\n",
       "    }\n",
       "</style>\n",
       "<table border=\"1\" class=\"dataframe\">\n",
       "  <thead>\n",
       "    <tr style=\"text-align: right;\">\n",
       "      <th></th>\n",
       "      <th>code</th>\n",
       "      <th>year</th>\n",
       "      <th>corpus</th>\n",
       "      <th>board</th>\n",
       "      <th>sentence_count</th>\n",
       "    </tr>\n",
       "  </thead>\n",
       "  <tbody>\n",
       "    <tr>\n",
       "      <th>0</th>\n",
       "      <td>000004</td>\n",
       "      <td>2018</td>\n",
       "      <td>讨论 分析 概述 年度 实现 主营业务 收入 万元 上年 同期 增加 实现 归属于 上市公司...</td>\n",
       "      <td>00</td>\n",
       "      <td>52</td>\n",
       "    </tr>\n",
       "    <tr>\n",
       "      <th>1</th>\n",
       "      <td>000004</td>\n",
       "      <td>2020</td>\n",
       "      <td>讨论 分析 概述 年 业务 转型 后 第一年 年 筹划 发行 股份 收购 智游 网安 股权 ...</td>\n",
       "      <td>00</td>\n",
       "      <td>126</td>\n",
       "    </tr>\n",
       "  </tbody>\n",
       "</table>\n",
       "</div>"
      ],
      "text/plain": [
       "     code  year                                             corpus board  \\\n",
       "0  000004  2018  讨论 分析 概述 年度 实现 主营业务 收入 万元 上年 同期 增加 实现 归属于 上市公司...    00   \n",
       "1  000004  2020  讨论 分析 概述 年 业务 转型 后 第一年 年 筹划 发行 股份 收购 智游 网安 股权 ...    00   \n",
       "\n",
       "   sentence_count  \n",
       "0              52  \n",
       "1             126  "
      ]
     },
     "execution_count": 61,
     "metadata": {},
     "output_type": "execute_result"
    }
   ],
   "source": [
    "corpus_18_20_path ='F:\\\\zzqaq\\\\data\\\\corpus_2018_2020.csv'\n",
    "corpus_1820 = pd.read_csv(corpus_18_20_path,encoding=\"gb18030\",converters={'code':str,'year':str,'board':str})\n",
    "corpus_1820[:2]"
   ]
  },
  {
   "cell_type": "markdown",
   "id": "8947c1d4",
   "metadata": {},
   "source": [
    "### 提取前512关键词"
   ]
  },
  {
   "cell_type": "markdown",
   "id": "539daf0e",
   "metadata": {},
   "source": [
    "基于统计的关键词提取方法中最常用的词频.逆文档频率（TF-IDF）算法对关键词进行提取，TF-IDF算法可以评估某个词语对于一个语料库中的某一段文本的重要程度。\n",
    "\n",
    "TF-IDF权重的大小不仅取决于一个词语在当前文档中出现的频率，还取决于它在整个语料库中的出现频率。如果一个词语在整个语料库中出现的频率较高，则认为它的区分度较低，应该被赋予较低的权重。\n"
   ]
  },
  {
   "cell_type": "code",
   "execution_count": 58,
   "id": "93b6e5e1",
   "metadata": {},
   "outputs": [
    {
     "data": {
      "text/plain": [
       "511"
      ]
     },
     "execution_count": 58,
     "metadata": {},
     "output_type": "execute_result"
    }
   ],
   "source": [
    "# 提取重要性前512词语\n",
    "corpus = corpus_1820['corpus']\n",
    "vectorizer = TfidfVectorizer(max_features=512)\n",
    "X = vectorizer.fit_transform(corpus) \n",
    "\n",
    "features_string = []\n",
    "for i in range(X.shape[0]):\n",
    "    # 获取当前文本数据的TF-IDF值\n",
    "    tfidf = X[i,:].toarray().squeeze()\n",
    "    # 获取TF-IDF值从高到低排名的索引\n",
    "    sorted_indices = tfidf.argsort()[::-1]  # argsort()方法并取反，以便获取从高到低排名的索引\n",
    "    # 输出当前文本数据的前2个TF-IDF值高的特征单词\n",
    "    top_indices = sorted_indices\n",
    "    top_features = [vectorizer.get_feature_names()[i] for i in top_indices] # 特征单词\n",
    "#     top_tfidf = [tfidf[i] for i in top_indices] # 特征向量\n",
    "    string = ' '.join(top_features)\n",
    "    features_string.append(string)\n",
    "# 空格数\n",
    "features_string[0].count(' ')"
   ]
  },
  {
   "cell_type": "code",
   "execution_count": 63,
   "id": "5ac28d40",
   "metadata": {},
   "outputs": [
    {
     "data": {
      "text/html": [
       "<div>\n",
       "<style scoped>\n",
       "    .dataframe tbody tr th:only-of-type {\n",
       "        vertical-align: middle;\n",
       "    }\n",
       "\n",
       "    .dataframe tbody tr th {\n",
       "        vertical-align: top;\n",
       "    }\n",
       "\n",
       "    .dataframe thead th {\n",
       "        text-align: right;\n",
       "    }\n",
       "</style>\n",
       "<table border=\"1\" class=\"dataframe\">\n",
       "  <thead>\n",
       "    <tr style=\"text-align: right;\">\n",
       "      <th></th>\n",
       "      <th>code</th>\n",
       "      <th>year</th>\n",
       "      <th>corpus</th>\n",
       "      <th>board</th>\n",
       "      <th>sentence_count</th>\n",
       "    </tr>\n",
       "  </thead>\n",
       "  <tbody>\n",
       "    <tr>\n",
       "      <th>0</th>\n",
       "      <td>000004</td>\n",
       "      <td>2018</td>\n",
       "      <td>适用 有限公司 股权 医药 业务 情况 科技股份 研发 资产 营业 出售 投资 子公司 行业...</td>\n",
       "      <td>00</td>\n",
       "      <td>52</td>\n",
       "    </tr>\n",
       "    <tr>\n",
       "      <th>1</th>\n",
       "      <td>000004</td>\n",
       "      <td>2020</td>\n",
       "      <td>安全 应用 检测 工业 平台 科技股份 适用 行业 有限公司 进行 互联网 情况 研发 数据...</td>\n",
       "      <td>00</td>\n",
       "      <td>126</td>\n",
       "    </tr>\n",
       "  </tbody>\n",
       "</table>\n",
       "</div>"
      ],
      "text/plain": [
       "     code  year                                             corpus board  \\\n",
       "0  000004  2018  适用 有限公司 股权 医药 业务 情况 科技股份 研发 资产 营业 出售 投资 子公司 行业...    00   \n",
       "1  000004  2020  安全 应用 检测 工业 平台 科技股份 适用 行业 有限公司 进行 互联网 情况 研发 数据...    00   \n",
       "\n",
       "   sentence_count  \n",
       "0              52  \n",
       "1             126  "
      ]
     },
     "execution_count": 63,
     "metadata": {},
     "output_type": "execute_result"
    }
   ],
   "source": [
    "# 查看\n",
    "top_features_512 = corpus_1820.copy()\n",
    "top_features_512.corpus = features_string\n",
    "top_features_512.head(2)"
   ]
  },
  {
   "cell_type": "code",
   "execution_count": 64,
   "id": "afeed2d5",
   "metadata": {},
   "outputs": [],
   "source": [
    "# 保存\n",
    "top_features_512.to_csv('F:\\\\zzqaq\\\\data\\\\top_features_512.csv',encoding=\"gb18030\",index = False)"
   ]
  },
  {
   "cell_type": "code",
   "execution_count": 10,
   "id": "06357d08",
   "metadata": {},
   "outputs": [
    {
     "data": {
      "text/html": [
       "<div>\n",
       "<style scoped>\n",
       "    .dataframe tbody tr th:only-of-type {\n",
       "        vertical-align: middle;\n",
       "    }\n",
       "\n",
       "    .dataframe tbody tr th {\n",
       "        vertical-align: top;\n",
       "    }\n",
       "\n",
       "    .dataframe thead th {\n",
       "        text-align: right;\n",
       "    }\n",
       "</style>\n",
       "<table border=\"1\" class=\"dataframe\">\n",
       "  <thead>\n",
       "    <tr style=\"text-align: right;\">\n",
       "      <th></th>\n",
       "      <th>code</th>\n",
       "      <th>year</th>\n",
       "      <th>corpus</th>\n",
       "      <th>board</th>\n",
       "      <th>sentence_count</th>\n",
       "    </tr>\n",
       "  </thead>\n",
       "  <tbody>\n",
       "    <tr>\n",
       "      <th>0</th>\n",
       "      <td>000004</td>\n",
       "      <td>2018</td>\n",
       "      <td>适用 有限公司 股权 医药 业务 情况 科技股份 研发 资产 营业 出售 投资 子公司 行业...</td>\n",
       "      <td>00</td>\n",
       "      <td>52</td>\n",
       "    </tr>\n",
       "    <tr>\n",
       "      <th>1</th>\n",
       "      <td>000004</td>\n",
       "      <td>2020</td>\n",
       "      <td>安全 应用 检测 工业 平台 科技股份 适用 行业 有限公司 进行 互联网 情况 研发 数据...</td>\n",
       "      <td>00</td>\n",
       "      <td>126</td>\n",
       "    </tr>\n",
       "  </tbody>\n",
       "</table>\n",
       "</div>"
      ],
      "text/plain": [
       "     code  year                                             corpus board  \\\n",
       "0  000004  2018  适用 有限公司 股权 医药 业务 情况 科技股份 研发 资产 营业 出售 投资 子公司 行业...    00   \n",
       "1  000004  2020  安全 应用 检测 工业 平台 科技股份 适用 行业 有限公司 进行 互联网 情况 研发 数据...    00   \n",
       "\n",
       "   sentence_count  \n",
       "0              52  \n",
       "1             126  "
      ]
     },
     "execution_count": 10,
     "metadata": {},
     "output_type": "execute_result"
    }
   ],
   "source": [
    "# 读取\n",
    "top_features_512_path ='F:\\\\zzqaq\\\\data\\\\top_features_512.csv'\n",
    "top_features_512 = pd.read_csv(top_features_512_path,encoding=\"gb18030\",converters={'code':str,'year':str,'board':str})\n",
    "top_features_512.head(2)"
   ]
  },
  {
   "cell_type": "code",
   "execution_count": 11,
   "id": "1c0d6bdc",
   "metadata": {},
   "outputs": [
    {
     "data": {
      "text/plain": [
       "7781"
      ]
     },
     "execution_count": 11,
     "metadata": {},
     "output_type": "execute_result"
    }
   ],
   "source": [
    "len(top_features_512.corpus)"
   ]
  },
  {
   "cell_type": "markdown",
   "id": "c6e1eeb9",
   "metadata": {},
   "source": [
    "—————————————————————————————  \n",
    "### bert预训练生成词向量 🙂  \n",
    "参考：https://cloud.tencent.com/developer/article/2094948#:~:text=BERT%20%E6%A8%A1%E5%9E%8B%E6%98%AF%E4%B8%80%E7%A7%8D%20NLP%20%E9%A2%84%E8%AE%AD%E7%BB%83%E6%8A%80%E6%9C%AF%EF%BC%8C%E6%9C%AC%E6%96%87%E4%B8%8D%E4%BB%8B%E7%BB%8D%20BERT%20%E7%9A%84%E5%8E%9F%E7%90%86%EF%BC%8C%E4%B8%BB%E8%A6%81%E5%85%B3%E6%B3%A8%E5%A6%82%E4%BD%95%E5%BF%AB%E9%80%9F%E4%B8%8A%E6%89%8B%E4%BD%BF%E7%94%A8%20BERT%20%E6%A8%A1%E5%9E%8B%E7%94%9F%E6%88%90%E8%AF%8D%E5%90%91%E9%87%8F%E7%94%A8%E4%BA%8E%E4%B8%8B%E6%B8%B8%E4%BB%BB%E5%8A%A1%E3%80%82,Google%20%E5%B7%B2%E7%BB%8F%E5%85%AC%E5%BC%80%E4%BA%86%20TensorFlow%20%E7%89%88%E6%9C%AC%E7%9A%84%20%E9%A2%84%E8%AE%AD%E7%BB%83%E6%A8%A1%E5%9E%8B%E5%92%8C%E4%BB%A3%E7%A0%81%20%EF%BC%8C%E5%8F%AF%E4%BB%A5%E7%94%A8%E4%BA%8E%E7%94%9F%E6%88%90%E8%AF%8D%E5%90%91%E9%87%8F%EF%BC%8C%E4%BD%86%E6%98%AF%E8%BF%98%E6%9C%89%E6%9B%B4%E7%AE%80%E5%8D%95%E7%9A%84%E6%96%B9%E6%B3%95%EF%BC%9A%E7%9B%B4%E6%8E%A5%E8%B0%83%E7%94%A8%E5%B0%81%E8%A3%85%E5%A5%BD%E7%9A%84%E5%BA%93%20bert-as-service%20%E3%80%82  \n",
    "    \n",
    "#### 低版本tf环境配置，tf版本与conda配套    \n",
    "bert-serving-start 配适tf版本低，  \n",
    "安装新环境conda create --name tf115 python=3.6  \n",
    "找对应conda10.0版本conda install cudatoolkit=10.1\n",
    "#### cuda版本查看  \n",
    "cuda的版本不要nvcc --version查，查到的是之前安装的高版本，  \n",
    "应在python中import tf之后print(tf.test.gpu_device_name())\n",
    "\n",
    "#### 预训练模型                  \n",
    "下载预训练模型，解压后模型位于'F:\\zzqaq\\data\\chinese_wwm_ext_L-12_H-768_A-12'  \n",
    "\n",
    "#### 终端调用\n",
    "pip install bert-serving-server  \n",
    "pip install bert-serving-client  这个要下。没下报错搞半天  \n",
    "终端调用：F:\\>bert-serving-start -model_dir   F:\\zzqaq\\data\\chinese_wwm_ext_L-12_H-768_A-12 -num_worker=2  \n",
    "bert-serving-start -model_dir   F:\\zzqaq\\data\\FinBERT_L-12_H-768_A-12_tf\\FinBERT_L-12_H-768_A-12_tf -num_worker=2  \n",
    "\n",
    "jupyter需要改内核  \n",
    "\n",
    "bert模型来源：https://github.com/ymcui/Chinese-BERT-wwm  \n",
    "金融领域：https://github.com/valuesimplex/FinBERT"
   ]
  },
  {
   "cell_type": "code",
   "execution_count": 6,
   "id": "d0a44102",
   "metadata": {},
   "outputs": [
    {
     "data": {
      "text/plain": [
       "'1.15.0'"
      ]
     },
     "execution_count": 6,
     "metadata": {},
     "output_type": "execute_result"
    }
   ],
   "source": [
    "import tensorflow as tf\n",
    "tf.__version__"
   ]
  },
  {
   "cell_type": "code",
   "execution_count": 15,
   "id": "133297a4",
   "metadata": {},
   "outputs": [
    {
     "data": {
      "text/plain": [
       "(7781, 768)"
      ]
     },
     "execution_count": 15,
     "metadata": {},
     "output_type": "execute_result"
    }
   ],
   "source": [
    "# 生成词向量，需终端调用\n",
    "from bert_serving.client import BertClient\n",
    "bc = BertClient()\n",
    "doc_vecs = bc.encode(top_features_512.corpus.tolist())\n",
    "doc_vecs.shape"
   ]
  },
  {
   "cell_type": "code",
   "execution_count": 3,
   "id": "4b6026e5",
   "metadata": {},
   "outputs": [
    {
     "name": "stdout",
     "output_type": "stream",
     "text": [
      "(7781, 4)\n"
     ]
    },
    {
     "data": {
      "text/html": [
       "<div>\n",
       "<style scoped>\n",
       "    .dataframe tbody tr th:only-of-type {\n",
       "        vertical-align: middle;\n",
       "    }\n",
       "\n",
       "    .dataframe tbody tr th {\n",
       "        vertical-align: top;\n",
       "    }\n",
       "\n",
       "    .dataframe thead th {\n",
       "        text-align: right;\n",
       "    }\n",
       "</style>\n",
       "<table border=\"1\" class=\"dataframe\">\n",
       "  <thead>\n",
       "    <tr style=\"text-align: right;\">\n",
       "      <th></th>\n",
       "      <th>code</th>\n",
       "      <th>year</th>\n",
       "      <th>text</th>\n",
       "      <th>board</th>\n",
       "    </tr>\n",
       "  </thead>\n",
       "  <tbody>\n",
       "    <tr>\n",
       "      <th>0</th>\n",
       "      <td>000004</td>\n",
       "      <td>2018</td>\n",
       "      <td>讨论与分析一概述年度，公司实现主营业务收入万元，比上年同期增加，实现归属于上市公司股东的净利...</td>\n",
       "      <td>00</td>\n",
       "    </tr>\n",
       "    <tr>\n",
       "      <th>1</th>\n",
       "      <td>000004</td>\n",
       "      <td>2020</td>\n",
       "      <td>讨论与分析一概述年是公司业务转型后的第一年，年，公司筹划发行股份收购智游网安股权的重大资产重...</td>\n",
       "      <td>00</td>\n",
       "    </tr>\n",
       "  </tbody>\n",
       "</table>\n",
       "</div>"
      ],
      "text/plain": [
       "     code  year                                               text board\n",
       "0  000004  2018  讨论与分析一概述年度，公司实现主营业务收入万元，比上年同期增加，实现归属于上市公司股东的净利...    00\n",
       "1  000004  2020  讨论与分析一概述年是公司业务转型后的第一年，年，公司筹划发行股份收购智游网安股权的重大资产重...    00"
      ]
     },
     "execution_count": 3,
     "metadata": {},
     "output_type": "execute_result"
    }
   ],
   "source": [
    "# 原df\n",
    "data_clean_2018_2020_path ='F:\\\\zzqaq\\\\data\\\\data_clean_2018_2020.csv'\n",
    "data_clean_2018_2020 = pd.read_csv(data_clean_2018_2020_path,encoding=\"gb18030\",converters={'code':str,'year':str,'board':str})\n",
    "print(data_clean_2018_2020.shape)\n",
    "data_clean_2018_2020[:2]"
   ]
  },
  {
   "cell_type": "code",
   "execution_count": 4,
   "id": "241ad33e",
   "metadata": {},
   "outputs": [],
   "source": [
    "# 添加进df\n",
    "corpus_index = data_clean_2018_2020.drop(columns=['text'])\n",
    "corpus_new = pd.DataFrame(np.concatenate((corpus_index.values, doc_vecs_df), axis=1),\n",
    "    columns=list(corpus_index.columns) + [f'feature_{i}' for i in range(768)])"
   ]
  },
  {
   "cell_type": "code",
   "execution_count": 22,
   "id": "5d878156",
   "metadata": {},
   "outputs": [],
   "source": [
    "# 保存\n",
    "corpus_new.to_csv('F:\\\\zzqaq\\\\data\\\\merged_text_vecs_fin.csv',encoding=\"gb18030\",index = False)"
   ]
  },
  {
   "cell_type": "code",
   "execution_count": 4,
   "id": "1e53f845",
   "metadata": {},
   "outputs": [
    {
     "name": "stdout",
     "output_type": "stream",
     "text": [
      "(7781, 771)\n"
     ]
    },
    {
     "data": {
      "text/html": [
       "<div>\n",
       "<style scoped>\n",
       "    .dataframe tbody tr th:only-of-type {\n",
       "        vertical-align: middle;\n",
       "    }\n",
       "\n",
       "    .dataframe tbody tr th {\n",
       "        vertical-align: top;\n",
       "    }\n",
       "\n",
       "    .dataframe thead th {\n",
       "        text-align: right;\n",
       "    }\n",
       "</style>\n",
       "<table border=\"1\" class=\"dataframe\">\n",
       "  <thead>\n",
       "    <tr style=\"text-align: right;\">\n",
       "      <th></th>\n",
       "      <th>code</th>\n",
       "      <th>year</th>\n",
       "      <th>board</th>\n",
       "      <th>feature_0</th>\n",
       "      <th>feature_1</th>\n",
       "      <th>feature_2</th>\n",
       "      <th>feature_3</th>\n",
       "      <th>feature_4</th>\n",
       "      <th>feature_5</th>\n",
       "      <th>feature_6</th>\n",
       "      <th>...</th>\n",
       "      <th>feature_758</th>\n",
       "      <th>feature_759</th>\n",
       "      <th>feature_760</th>\n",
       "      <th>feature_761</th>\n",
       "      <th>feature_762</th>\n",
       "      <th>feature_763</th>\n",
       "      <th>feature_764</th>\n",
       "      <th>feature_765</th>\n",
       "      <th>feature_766</th>\n",
       "      <th>feature_767</th>\n",
       "    </tr>\n",
       "  </thead>\n",
       "  <tbody>\n",
       "    <tr>\n",
       "      <th>0</th>\n",
       "      <td>000004</td>\n",
       "      <td>2018</td>\n",
       "      <td>00</td>\n",
       "      <td>-0.710000</td>\n",
       "      <td>0.082070</td>\n",
       "      <td>0.477866</td>\n",
       "      <td>0.057852</td>\n",
       "      <td>-0.391598</td>\n",
       "      <td>-0.628945</td>\n",
       "      <td>0.020472</td>\n",
       "      <td>...</td>\n",
       "      <td>0.712304</td>\n",
       "      <td>0.12474</td>\n",
       "      <td>-0.027108</td>\n",
       "      <td>-0.224301</td>\n",
       "      <td>0.113962</td>\n",
       "      <td>0.478764</td>\n",
       "      <td>-0.452287</td>\n",
       "      <td>0.260276</td>\n",
       "      <td>-0.280824</td>\n",
       "      <td>-0.278076</td>\n",
       "    </tr>\n",
       "    <tr>\n",
       "      <th>1</th>\n",
       "      <td>000004</td>\n",
       "      <td>2020</td>\n",
       "      <td>00</td>\n",
       "      <td>0.377358</td>\n",
       "      <td>-0.239015</td>\n",
       "      <td>0.122558</td>\n",
       "      <td>-0.083076</td>\n",
       "      <td>0.086279</td>\n",
       "      <td>-0.328752</td>\n",
       "      <td>-0.090525</td>\n",
       "      <td>...</td>\n",
       "      <td>0.678198</td>\n",
       "      <td>0.22263</td>\n",
       "      <td>0.201045</td>\n",
       "      <td>0.427176</td>\n",
       "      <td>-0.227349</td>\n",
       "      <td>0.221474</td>\n",
       "      <td>-0.725955</td>\n",
       "      <td>-0.090054</td>\n",
       "      <td>-1.034944</td>\n",
       "      <td>0.125335</td>\n",
       "    </tr>\n",
       "  </tbody>\n",
       "</table>\n",
       "<p>2 rows × 771 columns</p>\n",
       "</div>"
      ],
      "text/plain": [
       "     code  year board  feature_0  feature_1  feature_2  feature_3  feature_4  \\\n",
       "0  000004  2018    00  -0.710000   0.082070   0.477866   0.057852  -0.391598   \n",
       "1  000004  2020    00   0.377358  -0.239015   0.122558  -0.083076   0.086279   \n",
       "\n",
       "   feature_5  feature_6  ...  feature_758  feature_759  feature_760  \\\n",
       "0  -0.628945   0.020472  ...     0.712304      0.12474    -0.027108   \n",
       "1  -0.328752  -0.090525  ...     0.678198      0.22263     0.201045   \n",
       "\n",
       "   feature_761  feature_762  feature_763  feature_764  feature_765  \\\n",
       "0    -0.224301     0.113962     0.478764    -0.452287     0.260276   \n",
       "1     0.427176    -0.227349     0.221474    -0.725955    -0.090054   \n",
       "\n",
       "   feature_766  feature_767  \n",
       "0    -0.280824    -0.278076  \n",
       "1    -1.034944     0.125335  \n",
       "\n",
       "[2 rows x 771 columns]"
      ]
     },
     "execution_count": 4,
     "metadata": {},
     "output_type": "execute_result"
    }
   ],
   "source": [
    "# 读取\n",
    "text_vecs_path ='F:\\\\zzqaq\\\\data\\\\merged_text_vecs_fin.csv'\n",
    "text_vecs = pd.read_csv(text_vecs_path,encoding=\"gb18030\",converters={'code':str,'year':str,'board':str})\n",
    "print(text_vecs.shape)\n",
    "text_vecs.head(2)"
   ]
  }
 ],
 "metadata": {
  "kernelspec": {
   "display_name": "Python (tf115)",
   "language": "python",
   "name": "tf115"
  },
  "language_info": {
   "codemirror_mode": {
    "name": "ipython",
    "version": 3
   },
   "file_extension": ".py",
   "mimetype": "text/x-python",
   "name": "python",
   "nbconvert_exporter": "python",
   "pygments_lexer": "ipython3",
   "version": "3.6.15"
  },
  "toc": {
   "base_numbering": 1,
   "nav_menu": {},
   "number_sections": true,
   "sideBar": true,
   "skip_h1_title": false,
   "title_cell": "Table of Contents",
   "title_sidebar": "Contents",
   "toc_cell": false,
   "toc_position": {},
   "toc_section_display": true,
   "toc_window_display": false
  }
 },
 "nbformat": 4,
 "nbformat_minor": 5
}
